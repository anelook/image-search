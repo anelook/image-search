{
 "cells": [
  {
   "cell_type": "markdown",
   "metadata": {},
   "source": [
    "# Create an index that supports knn vectors"
   ]
  },
  {
   "cell_type": "code",
   "execution_count": null,
   "metadata": {},
   "outputs": [],
   "source": [
    "import os\n",
    "from dotenv import load_dotenv\n",
    "\n",
    "load_dotenv()\n",
    "SERVICE_URI = os.getenv(\"SERVICE_URI\")\n",
    "\n",
    "from opensearchpy import OpenSearch\n",
    "opensearch = OpenSearch(SERVICE_URI, use_ssl=True)\n",
    "\n",
    "from opensearchpy import OpenSearch\n",
    "index_name = 'photos'\n",
    "index_body = {\n",
    "  'settings': {\n",
    "    'index': {\n",
    "      \"knn\": True\n",
    "    }\n",
    "  },\n",
    "  \"mappings\": {\n",
    "            \"properties\": {\n",
    "                \"embedding\": {\n",
    "                    \"type\": \"knn_vector\",\n",
    "                    \"dimension\": 512\n",
    "                }\n",
    "            }\n",
    "        }\n",
    "}\n",
    "\n",
    "opensearch.indices.create(index_name, body=index_body)"
   ]
  }
 ],
 "metadata": {
  "kernelspec": {
   "display_name": "photos",
   "language": "python",
   "name": "python3"
  },
  "language_info": {
   "codemirror_mode": {
    "name": "ipython",
    "version": 3
   },
   "file_extension": ".py",
   "mimetype": "text/x-python",
   "name": "python",
   "nbconvert_exporter": "python",
   "pygments_lexer": "ipython3",
   "version": "3.11.7"
  }
 },
 "nbformat": 4,
 "nbformat_minor": 2
}
